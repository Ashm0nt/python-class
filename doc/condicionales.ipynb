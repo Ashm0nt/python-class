{
 "cells": [
  {
   "cell_type": "code",
   "execution_count": 3,
   "metadata": {},
   "outputs": [
    {
     "name": "stdout",
     "output_type": "stream",
     "text": [
      "Fuera de rango\n"
     ]
    }
   ],
   "source": [
    "gc_porcentaje = 50\n",
    "if gc_porcentaje > 40 and gc_porcentaje < 60:\n",
    "    print(\"Fuera de rango\")\n"
   ]
  },
  {
   "cell_type": "code",
   "execution_count": 6,
   "metadata": {},
   "outputs": [
    {
     "name": "stdout",
     "output_type": "stream",
     "text": [
      "Verifica si la secuencia tiene caracteres ambiguos\n"
     ]
    }
   ],
   "source": [
    "#Operadores de pertenencia\n",
    "secuencia = \"GAGCGTAGNGAATCG\"\n",
    "if \"N\" in secuencia or \"I\" in secuencia:\n",
    "    print (\"Verifica si la secuencia tiene caracteres ambiguos\")"
   ]
  },
  {
   "cell_type": "code",
   "execution_count": 8,
   "metadata": {},
   "outputs": [
    {
     "name": "stdout",
     "output_type": "stream",
     "text": [
      "Secuencia corta\n"
     ]
    }
   ],
   "source": [
    "#Ejercico 1\n",
    "secuencia = \"ATGCGT...\" # Coloca aquí una secuencia de ADN`\n",
    "\n",
    "if len(secuencia) > 1000:\n",
    "   print(\"Secuencia larga\")\n",
    "else:\n",
    "  print(\"Secuencia corta\")"
   ]
  },
  {
   "cell_type": "code",
   "execution_count": null,
   "metadata": {},
   "outputs": [
    {
     "name": "stdout",
     "output_type": "stream",
     "text": [
      "Gen sobreexpresado\n"
     ]
    }
   ],
   "source": [
    "#Ejercicio 2\n",
    "## Considerando Fold-Change\n",
    "expresion = 5.2  # Cambia este valor\n",
    "\n",
    "if   expresion > 1:\n",
    "    print(\"Gen sobreexpresado\")\n",
    "elif expresion == 1:\n",
    "    print(\"Expresión normal\")\n",
    "else:\n",
    "    print(\"Baja expresión\")"
   ]
  },
  {
   "cell_type": "code",
   "execution_count": null,
   "metadata": {},
   "outputs": [
    {
     "name": "stdout",
     "output_type": "stream",
     "text": [
      "Secuencia con bases desconocidas\n"
     ]
    }
   ],
   "source": [
    "#Ejercicio 3\n",
    "secuencia = \"ATGNCGTAGC\"\n",
    "\n",
    "if \"N\" in secuencia:\n",
    "    print(\"Secuencia con bases desconocidas\")\n",
    "else:\n",
    "    print(\"Secuencia válida\")\n"
   ]
  }
 ],
 "metadata": {
  "kernelspec": {
   "display_name": "Python 3",
   "language": "python",
   "name": "python3"
  },
  "language_info": {
   "codemirror_mode": {
    "name": "ipython",
    "version": 3
   },
   "file_extension": ".py",
   "mimetype": "text/x-python",
   "name": "python",
   "nbconvert_exporter": "python",
   "pygments_lexer": "ipython3",
   "version": "3.13.2"
  }
 },
 "nbformat": 4,
 "nbformat_minor": 2
}
