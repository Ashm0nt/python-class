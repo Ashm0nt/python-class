{
 "cells": [
  {
   "cell_type": "code",
   "execution_count": 2,
   "metadata": {},
   "outputs": [
    {
     "name": "stdout",
     "output_type": "stream",
     "text": [
      "['A', 'G', 'C', 'T']\n",
      "['A', 'G', 'C', 'U']\n"
     ]
    }
   ],
   "source": [
    "#Ejercicio 1\n",
    "#Crear una lista de bases nitrogenadas y mostrarla por pantalla\n",
    "bases_nitrogenadas = [\"A\", \"G\", \"C\", \"T\"]\n",
    "print(bases_nitrogenadas)\n",
    "#Ejercicio 2\n",
    "#Cambiar T por U\n",
    "bases_nitrogenadas.index(\"T\")\n",
    "bases_nitrogenadas[3] = \"U\"\n",
    "print(bases_nitrogenadas)\n"
   ]
  },
  {
   "cell_type": "code",
   "execution_count": 3,
   "metadata": {},
   "outputs": [
    {
     "name": "stdout",
     "output_type": "stream",
     "text": [
      "['A', 'T', 'G', 'C', 'G', 'T', 'A', 'G', 'C']\n"
     ]
    }
   ],
   "source": [
    "#Ejercico 2\n",
    "#Crear una lista de bases nitrogenadas y mostrarla por pantalla\n",
    "secuencia = list (\"ATGCGTAGC\")\n",
    "print(secuencia)"
   ]
  },
  {
   "cell_type": "code",
   "execution_count": 6,
   "metadata": {},
   "outputs": [
    {
     "name": "stdout",
     "output_type": "stream",
     "text": [
      "['A', 'T', 'G', 'C', 'G', 'T', 'A', 'G', 'C']\n",
      "['A', 'T', 'G', 'C', 'G']\n",
      "['A', 'G', 'C']\n",
      "['C', 'G', 'A', 'T', 'G', 'C', 'G', 'T', 'A']\n"
     ]
    }
   ],
   "source": [
    "#Ejercicio 3\n",
    "#slice de una lista\n",
    "\n",
    "secuencia = list (\"ATGCGTAGC\")\n",
    "print (secuencia)\n",
    "secuencia_5 =secuencia[0:5]\n",
    "print (secuencia_5)\n",
    "\n",
    "#Ultimos tres nucleotidos\n",
    "secuencia_ult_3= secuencia[-3:]\n",
    "print(secuencia_ult_3)\n",
    "\n",
    "#Secuencia inversa\n",
    "secuencia_inv= secuencia[::-1]\n",
    "print(secuencia_inv)\n",
    "\n"
   ]
  },
  {
   "cell_type": "code",
   "execution_count": 6,
   "metadata": {},
   "outputs": [
    {
     "name": "stdout",
     "output_type": "stream",
     "text": [
      "[('A', 2), ('G', 3), ('C', 2), ('T', 2)]\n"
     ]
    }
   ],
   "source": [
    "#Secuencia de bases nitrogenadas\n",
    "\n",
    "secuencia = list (\"ATGCGTAGC\")\n",
    "nucleotidos = [\"A\", \"G\", \"C\", \"T\"]\n",
    "frecuencias = [(i, secuencia.count(i)) for i in nucleotidos]\n",
    "print(frecuencias)"
   ]
  },
  {
   "cell_type": "code",
   "execution_count": 7,
   "metadata": {},
   "outputs": [
    {
     "name": "stdout",
     "output_type": "stream",
     "text": [
      "['A', 'T', 'G', 'C', 'A', 'T', 'G', 'C']\n"
     ]
    }
   ],
   "source": [
    "#Ejercico| 5\n",
    "## Filtrar bases nitrogenadas raras\n",
    "\n",
    "secuencia = [\"A\", \"T\", \"G\", \"C\", \"N\", \"R\", \"Y\", \"A\", \"T\", \"G\", \"C\"]\n",
    "filtred = [ i for i in secuencia if i not in [\"N\", \"R\", \"Y\"]]\n",
    "print(filtred)"
   ]
  },
  {
   "cell_type": "code",
   "execution_count": 12,
   "metadata": {},
   "outputs": [
    {
     "name": "stdout",
     "output_type": "stream",
     "text": [
      "['ATG', 'CTT', 'CGA', 'GGG']\n"
     ]
    }
   ],
   "source": [
    "#Ejercicio 6\n",
    "#Crear una lista de codones a partir de una secuencia de ADN\n",
    "secuencia = \"ATGCTTCGAGGG\"  # Definimos la secuencia como una cadena de ADN\n",
    "codones = [secuencia[i:i+3] for i in range(0, len(secuencia), 3)]\n",
    "print(codones)\n",
    "\n"
   ]
  },
  {
   "cell_type": "code",
   "execution_count": 13,
   "metadata": {},
   "outputs": [
    {
     "name": "stdout",
     "output_type": "stream",
     "text": [
      "['A', 'U', 'G', 'C', 'U', 'U', 'C', 'G', 'A', 'G', 'G', 'G']\n"
     ]
    }
   ],
   "source": [
    "#Dada una secuencia de ADN en forma de lista, reemplaza \"T\" por \"U\" y generar una secuencia de ARN en formato de lista.\n",
    "secuencia = [\"A\", \"T\", \"G\", \"C\", \"T\", \"T\", \"C\", \"G\", \"A\", \"G\", \"G\", \"G\"]\n",
    "arn = [i if i != \"T\" else \"U\" for i in secuencia]\n",
    "print(arn)"
   ]
  }
 ],
 "metadata": {
  "kernelspec": {
   "display_name": "Python 3",
   "language": "python",
   "name": "python3"
  },
  "language_info": {
   "codemirror_mode": {
    "name": "ipython",
    "version": 3
   },
   "file_extension": ".py",
   "mimetype": "text/x-python",
   "name": "python",
   "nbconvert_exporter": "python",
   "pygments_lexer": "ipython3",
   "version": "3.13.2"
  }
 },
 "nbformat": 4,
 "nbformat_minor": 2
}
