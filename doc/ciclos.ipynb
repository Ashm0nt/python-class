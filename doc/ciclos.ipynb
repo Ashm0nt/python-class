{
 "cells": [
  {
   "cell_type": "markdown",
   "metadata": {},
   "source": [
    "# Ciclos e iterables\n",
    "Los ciclos son importantes porque nos permiten recorrer iterables\n",
    "\n",
    "Iterables\n",
    "-listas\n",
    "-archivos\n",
    "-sets\n",
    "-etc\n",
    "\n",
    "## Lops\n",
    "\n",
    "````python\n",
    "for <var> in <iterable>:\n",
    "    <statement (s)>\n",
    "````\n",
    "\n",
    "- Para recorrer en un rango de números \n",
    "range tiene tres argumentos (inicio, final, paso)\n",
    "````python\n",
    "for var in range(3,11):\n",
    "    print (valor)\n",
    "````\n",
    "\n",
    "## Strins\n",
    "\n",
    "Los string son iterables por lo que tambien se pueden recorrer con un ciclo for \n",
    "\n",
    "\n",
    "## Funcion split\n",
    "\n",
    "split () se usa para dividir un string en una lista de subcadenas, se puede dividir el separador, el default es un espacio, depende del formato del archivo o del strign, (separador, de las primeras ocurrencias cuantas van a ser tomadas en cuenta)\n",
    "\n",
    "- \" \"\n",
    "- \",\"\n",
    "- \"-\"\n",
    "\n",
    "```pyhton\n",
    "lista = secuencia.split (\"-\", 2)\n",
    "```\n",
    "\n",
    "## Funcion map\n",
    "\n",
    "La funcion map aplica una funcion a  un iterable, si solo se aplica la funcion regresa el resultado en un tipo de dato map, para que sea una lista hay que usar la funcion lista. map es super poderoso, se veran ejemplos más adelante\n",
    "\n",
    "\n"
   ]
  },
  {
   "cell_type": "code",
   "execution_count": null,
   "metadata": {},
   "outputs": [],
   "source": [
    "# Ciclo for\n",
    "\n",
    "genes = [\"rpoB\", \"lacZ\", \"gyrA\", \"bla\", \"tetA\", \"cat\"]\n",
    "for gen in genes:\n",
    "    print (f\"El gen es {gen}\")"
   ]
  },
  {
   "cell_type": "code",
   "execution_count": null,
   "metadata": {},
   "outputs": [],
   "source": [
    "#Funcion reverse\n",
    "genes = [\"rpoB\", \"lacZ\", \"gyrA\", \"bla\", \"tetA\", \"cat\"]\n",
    "for gen in reversed(genes):\n",
    "    print (f\"El gen es {gen}\")\n",
    "\n",
    "print (\"\\n\")\n",
    "\n",
    "#Usando otra opcion distinta a reversed\n",
    "genes = [\"rpoB\", \"lacZ\", \"gyrA\", \"bla\", \"tetA\", \"cat\"]\n",
    "for gen in genes[::-1]:\n",
    "    print (f\"El gen es {gen}\")"
   ]
  },
  {
   "cell_type": "code",
   "execution_count": null,
   "metadata": {},
   "outputs": [],
   "source": [
    "#For con range\n",
    "for valor in range(3,11):\n",
    "    print (valor)\n",
    "\n",
    "#For con range y saltos\n",
    "for valor in range(3,11,2):\n",
    "    print (valor)"
   ]
  },
  {
   "cell_type": "code",
   "execution_count": null,
   "metadata": {},
   "outputs": [],
   "source": [
    "#Listas como objetos iterables\n",
    "\n",
    "secuencia = \"ATGCGATGACGTA\"\n",
    "\n",
    "for nucleotido in secuencia:\n",
    "    print (nucleotido)"
   ]
  },
  {
   "cell_type": "code",
   "execution_count": null,
   "metadata": {},
   "outputs": [],
   "source": [
    "#Importancia de las idetnaciones\n",
    "\n",
    "apes = [\"Pongo pygmaeus\", \"Pan troglodytes\", \"Gorilla gorilla\"] \n",
    "for ape in apes:\n",
    "    name_length = len(ape)\n",
    "first_letter = ape[0] #Error de identacion\n",
    "    print(f\"{ape} is an ape. Its name starts with {first_letter}\")\n",
    "    print(f\"{ape} is {name_length} characters long\")\n",
    "\n"
   ]
  },
  {
   "cell_type": "code",
   "execution_count": null,
   "metadata": {},
   "outputs": [],
   "source": [
    "#Importancia de las idetnaciones\n",
    "\n",
    "apes = [\"Pongo pygmaeus\", \"Pan troglodytes\", \"Gorilla gorilla\"] \n",
    "for ape in apes:\n",
    "    name_length = len(ape)\n",
    "    first_letter = ape[0] #Sin error de identacion\n",
    "    print(f\"{ape} is an ape. Its name starts with {first_letter}\")\n",
    "    print(f\"{ape} is {name_length} characters long\")"
   ]
  },
  {
   "cell_type": "code",
   "execution_count": null,
   "metadata": {},
   "outputs": [],
   "source": [
    "#Para ahorar el uso de variables\n",
    "pes = [\"Pongo pygmaeus\", \"Pan troglodytes\", \"Gorilla gorilla\"] \n",
    "for ape in apes:\n",
    "    print(f\"{ape} is an ape. Its name starts with {ape [0]}\")\n",
    "    print(f\"{ape} is {len(ape)} characters long\")"
   ]
  },
  {
   "cell_type": "code",
   "execution_count": null,
   "metadata": {},
   "outputs": [],
   "source": [
    "#Uso de split\n",
    "\n",
    "texto =  \"ATG GTC GGG TAA GCA\"\n",
    "print (texto)\n",
    "lista = texto.split()\n",
    "print (lista)\n",
    "\n",
    "#Uso de split con separador\n",
    "texto =  \"ATG-GTC-GGG-TAA-GCA\"\n",
    "print (texto)\n",
    "lista = texto.split(\"-\")\n",
    "print (lista)\n",
    "\n",
    "#Uso de split con separador y maxsplit\n",
    "texto =  \"ATG-GTC-GGG-TAA-GCA\"\n",
    "print (texto)\n",
    "lista = texto.split(\"-\", 2)\n",
    "print (lista)\n"
   ]
  },
  {
   "cell_type": "code",
   "execution_count": 19,
   "metadata": {},
   "outputs": [
    {
     "name": "stdout",
     "output_type": "stream",
     "text": [
      "1 2 3\n",
      "['2', '3', '4']\n",
      "[2, 3, 4]\n",
      "9\n"
     ]
    }
   ],
   "source": [
    "numeros_str = input(\"Ingrese 3 numeros separados por espacio: \")\n",
    "print (numeros_str)\n",
    "\n",
    "#Convertir a lista  \n",
    "numeros = input(\"Ingrese 3 numeros separados por espacio: \").split()\n",
    "print (numeros)\n",
    "\n",
    "#Convertir a lista de enteros\n",
    "numeros = list(map (int, numeros))\n",
    "print (numeros)\n",
    "#Sumar los numeros\n",
    "suma =  sum (numeros)\n",
    "print (suma)"
   ]
  }
 ],
 "metadata": {
  "kernelspec": {
   "display_name": "Python 3",
   "language": "python",
   "name": "python3"
  },
  "language_info": {
   "codemirror_mode": {
    "name": "ipython",
    "version": 3
   },
   "file_extension": ".py",
   "mimetype": "text/x-python",
   "name": "python",
   "nbconvert_exporter": "python",
   "pygments_lexer": "ipython3",
   "version": "3.13.2"
  }
 },
 "nbformat": 4,
 "nbformat_minor": 2
}
