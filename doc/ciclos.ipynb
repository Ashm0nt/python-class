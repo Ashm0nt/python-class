{
 "cells": [
  {
   "cell_type": "markdown",
   "metadata": {},
   "source": [
    "# Ciclos e iterables\n",
    "Los ciclos son importantes porque nos permiten recorrer iterables\n",
    "\n",
    "Iterables\n",
    "-listas\n",
    "-archivos\n",
    "-sets\n",
    "-etc\n",
    "\n",
    "## Lops\n",
    "\n",
    "````python\n",
    "for <var> in <iterable>:\n",
    "    <statement (s)>\n",
    "````\n",
    "\n",
    "- Para recorrer en un rango de números \n",
    "range tiene tres argumentos (inicio, final, paso)\n",
    "````python\n",
    "for var in range(3,11):\n",
    "    print (valor)\n",
    "````\n",
    "\n",
    "## Strins\n",
    "\n",
    "Los string son iterables por lo que tambien se pueden recorrer con un ciclo for \n",
    "\n",
    "\n",
    "## Funcion split\n",
    "\n",
    "split () se usa para dividir un string en una lista de subcadenas, se puede dividir el separador, el default es un espacio, depende del formato del archivo o del strign, (separador, de las primeras ocurrencias cuantas van a ser tomadas en cuenta)\n",
    "\n",
    "- \" \"\n",
    "- \",\"\n",
    "- \"-\"\n",
    "\n",
    "```pyhton\n",
    "lista = secuencia.split (\"-\", 2)\n",
    "```\n",
    "\n",
    "## Funcion map\n",
    "\n",
    "La funcion map aplica una funcion a  un iterable, si solo se aplica la funcion regresa el resultado en un tipo de dato map (objeto iterable también), para que sea una lista hay que usar la funcion lista. map es super poderoso, se veran ejemplos más adelante\n",
    "\n",
    "## Otras funciones útiles\n",
    "\n",
    "### Enumerate\n",
    "\n",
    "Permite obtener el indice y el valor de un iterable\n",
    "\n",
    "```python\n",
    "for i, base in enumerate (s):\n",
    "    print(f\"Posicion {i} : {base}\")\n",
    "```\n",
    "\n",
    "### Funcion zip\n",
    "\n",
    "Permite iterar sobre multiples listas a la vez\n",
    "\n",
    "```python\n",
    "for <return1>, <return2> in zip (<iterable>, <iterable2>):\n",
    "    print(f\"{return1} y su par es {return2}\")\n",
    "```\n",
    "\n",
    "Si no son del mismo tamaño, solo emparejara hasta la longitud de la lista más corta, ignorando los elementos de la lista más larga\n",
    "\n",
    "## Ciclo while \n",
    "\n",
    "```python\n",
    "while condition:\n",
    "```\n"
   ]
  },
  {
   "cell_type": "code",
   "execution_count": null,
   "metadata": {},
   "outputs": [],
   "source": []
  },
  {
   "cell_type": "code",
   "execution_count": null,
   "metadata": {},
   "outputs": [],
   "source": [
    "# Ciclo for\n",
    "\n",
    "genes = [\"rpoB\", \"lacZ\", \"gyrA\", \"bla\", \"tetA\", \"cat\"]\n",
    "for gen in genes:\n",
    "    print (f\"El gen es {gen}\")"
   ]
  },
  {
   "cell_type": "code",
   "execution_count": null,
   "metadata": {},
   "outputs": [],
   "source": [
    "#Funcion reverse\n",
    "genes = [\"rpoB\", \"lacZ\", \"gyrA\", \"bla\", \"tetA\", \"cat\"]\n",
    "for gen in reversed(genes):\n",
    "    print (f\"El gen es {gen}\")\n",
    "\n",
    "print (\"\\n\")\n",
    "\n",
    "#Usando otra opcion distinta a reversed\n",
    "genes = [\"rpoB\", \"lacZ\", \"gyrA\", \"bla\", \"tetA\", \"cat\"]\n",
    "for gen in genes[::-1]:\n",
    "    print (f\"El gen es {gen}\")"
   ]
  },
  {
   "cell_type": "code",
   "execution_count": null,
   "metadata": {},
   "outputs": [],
   "source": [
    "#For con range\n",
    "for valor in range(3,11):\n",
    "    print (valor)\n",
    "\n",
    "#For con range y saltos\n",
    "for valor in range(3,11,2):\n",
    "    print (valor)"
   ]
  },
  {
   "cell_type": "code",
   "execution_count": null,
   "metadata": {},
   "outputs": [],
   "source": [
    "#Listas como objetos iterables\n",
    "\n",
    "secuencia = \"ATGCGATGACGTA\"\n",
    "\n",
    "for nucleotido in secuencia:\n",
    "    print (nucleotido)"
   ]
  },
  {
   "cell_type": "code",
   "execution_count": null,
   "metadata": {},
   "outputs": [],
   "source": [
    "#Importancia de las idetnaciones\n",
    "\n",
    "apes = [\"Pongo pygmaeus\", \"Pan troglodytes\", \"Gorilla gorilla\"] \n",
    "for ape in apes:\n",
    "    name_length = len(ape)\n",
    "first_letter = ape[0] #Error de identacion\n",
    "    print(f\"{ape} is an ape. Its name starts with {first_letter}\")\n",
    "    print(f\"{ape} is {name_length} characters long\")\n",
    "\n"
   ]
  },
  {
   "cell_type": "code",
   "execution_count": null,
   "metadata": {},
   "outputs": [],
   "source": [
    "#Importancia de las idetnaciones\n",
    "\n",
    "apes = [\"Pongo pygmaeus\", \"Pan troglodytes\", \"Gorilla gorilla\"] \n",
    "for ape in apes:\n",
    "    name_length = len(ape)\n",
    "    first_letter = ape[0] #Sin error de identacion\n",
    "    print(f\"{ape} is an ape. Its name starts with {first_letter}\")\n",
    "    print(f\"{ape} is {name_length} characters long\")"
   ]
  },
  {
   "cell_type": "code",
   "execution_count": null,
   "metadata": {},
   "outputs": [],
   "source": [
    "#Para ahorar el uso de variables\n",
    "pes = [\"Pongo pygmaeus\", \"Pan troglodytes\", \"Gorilla gorilla\"] \n",
    "for ape in apes:\n",
    "    print(f\"{ape} is an ape. Its name starts with {ape [0]}\")\n",
    "    print(f\"{ape} is {len(ape)} characters long\")"
   ]
  },
  {
   "cell_type": "code",
   "execution_count": null,
   "metadata": {},
   "outputs": [],
   "source": [
    "#Uso de split\n",
    "\n",
    "texto =  \"ATG GTC GGG TAA GCA\"\n",
    "print (texto)\n",
    "lista = texto.split()\n",
    "print (lista)\n",
    "\n",
    "#Uso de split con separador\n",
    "texto =  \"ATG-GTC-GGG-TAA-GCA\"\n",
    "print (texto)\n",
    "lista = texto.split(\"-\")\n",
    "print (lista)\n",
    "\n",
    "#Uso de split con separador y maxsplit\n",
    "texto =  \"ATG-GTC-GGG-TAA-GCA\"\n",
    "print (texto)\n",
    "lista = texto.split(\"-\", 2)\n",
    "print (lista)\n"
   ]
  },
  {
   "cell_type": "code",
   "execution_count": null,
   "metadata": {},
   "outputs": [],
   "source": [
    "numeros_str = input(\"Ingrese 3 numeros separados por espacio: \")\n",
    "print (numeros_str)\n",
    "\n",
    "#Convertir a lista  \n",
    "numeros = input(\"Ingrese 3 numeros separados por espacio: \").split()\n",
    "print (numeros)\n",
    "\n",
    "#Convertir a lista de enteros\n",
    "numeros = list(map (int, numeros))\n",
    "print (numeros)\n",
    "#Sumar los numeros\n",
    "suma =  sum (numeros)\n",
    "print (suma)"
   ]
  },
  {
   "cell_type": "code",
   "execution_count": 12,
   "metadata": {},
   "outputs": [
    {
     "name": "stdout",
     "output_type": "stream",
     "text": [
      "['NC_000913.3', 'RefSeq', 'gene', '190', '255', '.', '+       .       ID=gene-b0001;Dbxref=ASAP:ABE-0000006,ECOCYC:EG11277,EcoGene:EG11277,GeneID:944742;Name=thrL;gbkey=Gene;gene=thrL;gene_biotype=protein_coding;gene_synonym=ECK0001;locus_tag=b0001']\n",
      "El gen NC_000913.3 mide 66 pb y empieza en la posicion 190 y termina en la posicion 255\n",
      "['NC_000913.3', 'RefSeq', 'CDS', '190', '255', '.', '+       0       ID=cds-NP_414542.1;Parent=gene-b0001;Dbxref=UniProtKB/Swiss-Prot:P0AD86,Genbank:NP_414542.1,ASAP:ABE-0000006,ECOCYC:EG11277,EcoGene:EG11277,GeneID:944742;Name=NP_414542.1;gbkey=CDS;gene=thrL;locus_tag=b0001;orig_transcript_id=gnl|b0001|mrna.b0001;product=thr operon leader peptide;protein_id=NP_414542.1;transl_table=11']\n",
      "El gen NC_000913.3 mide 66 pb y empieza en la posicion 190 y termina en la posicion 255\n",
      "['NC_000913.3', 'RefSeq', 'CDS', '3734', '5020', '.', '+       0       ID=cds-NP_414545.1;Parent=gene-b0004;Dbxref=UniProtKB/Swiss-Prot:P00934,Genbank:NP_414545.1,ASAP:ABE-0000012,ECOCYC:EG11000,EcoGene:EG11000,GeneID:945198;Name=NP_414545.1;gbkey=CDS;gene=thrC;locus_tag=b0004;orig_transcript_id=gnl|b0004|mrna.b0004;product=threonine synthase;protein_id=NP_414545.1;transl_table=11']\n",
      "El gen NC_000913.3 mide 1287 pb y empieza en la posicion 3734 y termina en la posicion 5020\n",
      "['']\n"
     ]
    },
    {
     "ename": "IndexError",
     "evalue": "list index out of range",
     "output_type": "error",
     "traceback": [
      "\u001b[31m---------------------------------------------------------------------------\u001b[39m",
      "\u001b[31mIndexError\u001b[39m                                Traceback (most recent call last)",
      "\u001b[36mCell\u001b[39m\u001b[36m \u001b[39m\u001b[32mIn[12]\u001b[39m\u001b[32m, line 7\u001b[39m\n\u001b[32m      5\u001b[39m colum = line.strip().split(\u001b[33m\"\u001b[39m\u001b[38;5;130;01m\\t\u001b[39;00m\u001b[33m\"\u001b[39m)\n\u001b[32m      6\u001b[39m \u001b[38;5;28mprint\u001b[39m (colum)\n\u001b[32m----> \u001b[39m\u001b[32m7\u001b[39m start = \u001b[38;5;28mint\u001b[39m(\u001b[43mcolum\u001b[49m\u001b[43m[\u001b[49m\u001b[32;43m3\u001b[39;49m\u001b[43m]\u001b[49m)\n\u001b[32m      8\u001b[39m end = \u001b[38;5;28mint\u001b[39m(colum[\u001b[32m4\u001b[39m])\n\u001b[32m      9\u001b[39m size = end - start + \u001b[32m1\u001b[39m\n",
      "\u001b[31mIndexError\u001b[39m: list index out of range"
     ]
    }
   ],
   "source": [
    "#Aplicación\n",
    "''' En base a un archivo gff, obtener el nombre tamaño y coordenadas de genes'''\n",
    "with open (\"/Users/ashleyyaelmontielvargas/Desktop/clases/python-class/test/test.gff\") as file:\n",
    "    for line in file:\n",
    "        colum = line.strip().split(\"\\t\")\n",
    "        print (colum)\n",
    "        start = int(colum[3])\n",
    "        end = int(colum[4])\n",
    "        size = end - start + 1\n",
    "        print (f\"El gen {colum[0]} mide {size} pb y empieza en la posicion {start} y termina en la posicion {end}\")"
   ]
  },
  {
   "cell_type": "code",
   "execution_count": null,
   "metadata": {},
   "outputs": [],
   "source": [
    "#Uso de zip\n",
    "\n",
    "bases = [\"A\", \"C\", \"G\", \"T\"]\n",
    "complemento = [\"T\", \"G\", \"C\", \"A\"]\n",
    "for base, comp in zip(bases, complemento):\n",
    "    print (f\"La base {base} se complementa con {comp}\")"
   ]
  },
  {
   "cell_type": "code",
   "execution_count": 9,
   "metadata": {},
   "outputs": [
    {
     "name": "stdout",
     "output_type": "stream",
     "text": [
      "La base A esta en la posicion 0\n",
      "La base C esta en la posicion 1\n",
      "La base G esta en la posicion 2\n",
      "La base T esta en la posicion 3\n"
     ]
    }
   ],
   "source": [
    "#Uso de enumerate\n",
    "\n",
    "bases = [\"A\", \"C\", \"G\", \"T\"]\n",
    "for i, base in enumerate(bases):\n",
    "    print (f\"La base {base} esta en la posicion {i}\")"
   ]
  }
 ],
 "metadata": {
  "kernelspec": {
   "display_name": "Python 3",
   "language": "python",
   "name": "python3"
  },
  "language_info": {
   "codemirror_mode": {
    "name": "ipython",
    "version": 3
   },
   "file_extension": ".py",
   "mimetype": "text/x-python",
   "name": "python",
   "nbconvert_exporter": "python",
   "pygments_lexer": "ipython3",
   "version": "3.13.2"
  }
 },
 "nbformat": 4,
 "nbformat_minor": 2
}
